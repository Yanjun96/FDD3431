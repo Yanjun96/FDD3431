{
 "cells": [
  {
   "cell_type": "code",
   "execution_count": 7,
   "id": "7b9ff601-5e13-4468-960f-6fec3b1b15c9",
   "metadata": {},
   "outputs": [
    {
     "name": "stdout",
     "output_type": "stream",
     "text": [
      "[[0.2]\n",
      " [0.2]\n",
      " [0.2]\n",
      " [0.2]\n",
      " [0.2]]\n"
     ]
    }
   ],
   "source": [
    "import numpy as np\n",
    "Npts=5\n",
    "W = np.ones((Npts,1))/float(Npts)\n",
    "print(W)"
   ]
  },
  {
   "cell_type": "code",
   "execution_count": 21,
   "id": "a6e55dfc-a755-4f53-afd0-b1c18e4b34b2",
   "metadata": {},
   "outputs": [],
   "source": [
    "a = np.array ( [ [1,2,3,4],\n",
    "    [1,2,3,4] ] )\n",
    "\n",
    "\n"
   ]
  },
  {
   "cell_type": "code",
   "execution_count": 23,
   "id": "269341f1-ecd3-4342-aafb-21f512bd95c1",
   "metadata": {},
   "outputs": [
    {
     "name": "stdout",
     "output_type": "stream",
     "text": [
      "2.0\n"
     ]
    }
   ],
   "source": [
    "print(  np.mean(a[:,1])  )"
   ]
  },
  {
   "cell_type": "code",
   "execution_count": 26,
   "id": "2312c2b0-ead6-4edc-ae33-c06cc838de9f",
   "metadata": {},
   "outputs": [
    {
     "data": {
      "text/plain": [
       "2"
      ]
     },
     "execution_count": 26,
     "metadata": {},
     "output_type": "execute_result"
    }
   ],
   "source": [
    "a.shape[0]"
   ]
  },
  {
   "cell_type": "code",
   "execution_count": null,
   "id": "a4af872f-7b4c-43fc-b0b5-5fab0213aebe",
   "metadata": {},
   "outputs": [],
   "source": []
  }
 ],
 "metadata": {
  "kernelspec": {
   "display_name": "Python 3 (ipykernel)",
   "language": "python",
   "name": "python3"
  },
  "language_info": {
   "codemirror_mode": {
    "name": "ipython",
    "version": 3
   },
   "file_extension": ".py",
   "mimetype": "text/x-python",
   "name": "python",
   "nbconvert_exporter": "python",
   "pygments_lexer": "ipython3",
   "version": "3.13.1"
  }
 },
 "nbformat": 4,
 "nbformat_minor": 5
}
