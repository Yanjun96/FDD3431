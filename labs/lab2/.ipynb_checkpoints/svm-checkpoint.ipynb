{
 "cells": [
  {
   "cell_type": "code",
   "execution_count": 1,
   "id": "24a34ae1-cb5d-4f0f-8e32-c6f914b3e055",
   "metadata": {},
   "outputs": [],
   "source": [
    "import numpy as np\n",
    "import random, math\n",
    "from scipy.optimize import minimize\n",
    "import matplotlib.pyplot as plt"
   ]
  },
  {
   "cell_type": "code",
   "execution_count": 2,
   "id": "805d5bcc-b3e0-4944-be0a-c36a93dbe6aa",
   "metadata": {},
   "outputs": [],
   "source": [
    "def objective(alpha):\n",
    "    result = 0.5* np.dot(alpha, np.dot(alpha, p)) - np.sum(alpha)\n",
    "    return result\n",
    "\n",
    "def zerofun(alpha):\n",
    "    return np.dot(alpha, t)\n",
    "\n",
    "\n",
    "#### kernals \n",
    "def linear_kernal(x,y):\n",
    "    z = np.dot(x.T, y)\n",
    "    return z\n",
    "\n",
    "def polynomial_kernel(x1, x2, p=2):\n",
    "    return (np.dot(x1, x2) + 1) ** p\n",
    "\n",
    "def compute_b(alpha, X, t, K):\n",
    "    \"\"\"\n",
    "    Compute the bias term b for the SVM.\n",
    "\n",
    "    Parameters:\n",
    "    - alpha: Optimal Lagrange multipliers (N,)\n",
    "    - X: Training data points (N, D)\n",
    "    - t: Target labels (-1 or 1) (N,)\n",
    "    - K: Kernel matrix (N, N)\n",
    "\n",
    "    Returns:\n",
    "    - b: Bias term\n",
    "    \"\"\"\n",
    "    # Find a support vector (0 < alpha < C)\n",
    "    C = 10  # The regularization parameter\n",
    "    support_vector_indices = np.where((alpha > 1e-5) & (alpha < C))[0]  # Find indices of support vectors\n",
    "    s = support_vector_indices[0]  # Pick the first support vector\n",
    "\n",
    "    # Compute b using the support vector\n",
    "    b = np.sum(alpha * t * K[:, s]) - t[s]\n",
    "    \n",
    "    return b\n",
    "\n",
    "def objective(alpha):\n",
    "    result = 0.5* np.dot(alpha, np.dot(alpha, p)) - np.sum(alpha)\n",
    "    return result\n",
    "\n",
    "def zerofun(alpha):\n",
    "    return np.dot(alpha, t)\n",
    "\n",
    "\n",
    "#### kernals \n",
    "def linear_kernal(x,y):\n",
    "    z = np.dot(x.T, y)\n",
    "    return z\n",
    "\n",
    "def polynomial_kernel(x1, x2, p=2):\n",
    "    return (np.dot(x1, x2) + 1) ** p\n",
    "\n",
    "def compute_b(alpha, X, t, K):\n",
    "    \"\"\"\n",
    "    Compute the bias term b for the SVM.\n",
    "\n",
    "    Parameters:\n",
    "    - alpha: Optimal Lagrange multipliers (N,)\n",
    "    - X: Training data points (N, D)\n",
    "    - t: Target labels (-1 or 1) (N,)\n",
    "    - K: Kernel matrix (N, N)\n",
    "\n",
    "    Returns:\n",
    "    - b: Bias term\n",
    "    \"\"\"\n",
    "    # Find a support vector (0 < alpha < C)\n",
    "    C = 10  # The regularization parameter\n",
    "    support_vector_indices = np.where((alpha > 1e-5) & (alpha < C))[0]  # Find indices of support vectors\n",
    "    s = support_vector_indices[0]  # Pick the first support vector\n",
    "\n",
    "    # Compute b using the support vector\n",
    "    b = np.sum(alpha * t * K[:, s]) - t[s]\n",
    "    \n",
    "    return b\n",
    "\n",
    "def compute_ind(alpha, X, t, linear_kernal, b, s):\n",
    "    #print(f\"X shape: {X.shape}\")  # Debug: Check shape of X\n",
    "    #print(f\"s shape: {s.shape}\")  # Debug: Check shape of s\n",
    "    \"\"\"\n",
    "    Compute the indicator function for a new data point s.\n",
    "    \n",
    "    Parameters:\n",
    "    - alpha: Optimal Lagrange multipliers (N,)\n",
    "    - X: Training data points (N, D)\n",
    "    - t: Target labels (-1 or 1) (N,)\n",
    "    - K: Kernel matrix (N, N)\n",
    "    - b: Bias term\n",
    "    - s: New data point (D,)\n",
    "    \n",
    "    Returns:\n",
    "    - ind: Indicator value\n",
    "    \"\"\"\n",
    "    # Ensure X is a 2D array\n",
    "    if X.ndim == 1:\n",
    "        X = X.reshape(-1, 1)  # Reshape to (N, 1) if X is 1D\n",
    "        \n",
    "    kernel_values = np.array([linear_kernal(s, x) for x in X])\n",
    "    \n",
    "    # Compute the indicator value\n",
    "    ind = np.sum(alpha * t * kernel_values) - b\n",
    "    return ind\n"
   ]
  },
  {
   "cell_type": "code",
   "execution_count": 3,
   "id": "9453d7f1-f75a-4849-b4bb-12891e4b724d",
   "metadata": {},
   "outputs": [
    {
     "data": {
      "image/png": "[encoded data removed]",
      "text/plain": [
       "<Figure size 640x480 with 1 Axes>"
      ]
     },
     "metadata": {},
     "output_type": "display_data"
    }
   ],
   "source": [
    "np.random.seed(100)\n",
    "classA = np.concatenate(\n",
    "    (np.random.randn(5, 2) * 0.2 + [1.5, 0.5],\n",
    "     np.random.randn(5, 2) * 0.2 + [-1.5, 0.5]) )\n",
    "classB = np.random.randn(10, 2) * 0.2 + [0.0, -0.5]  # Number of rows (samples)\n",
    "\n",
    "inputs = np.concatenate((classA, classB))\n",
    "targets = np.concatenate(\n",
    "    (np.ones(classA.shape[0]),\n",
    "    -np.ones(classB.shape[0])))\n",
    "\n",
    "N = inputs.shape[0]\n",
    "\n",
    "permute = list(range(N))\n",
    "random.shuffle(permute)\n",
    "inputs = inputs[permute, :]\n",
    "targets = targets[permute]\n",
    "\n",
    "plt.plot( [p[0] for p in classA], [p[1] for p in classA], 'b.')\n",
    "plt.plot( [p[0] for p in classB], [p[1] for p in classB], 'r.')\n",
    "\n",
    "plt.tight_layout()\n",
    "plt.axis('equal')\n",
    "plt.savefig('svmplot.png')\n",
    "plt.show()"
   ]
  },
  {
   "cell_type": "code",
   "execution_count": 4,
   "id": "b2c81ae8-1f08-497b-bf84-437c47bafc9d",
   "metadata": {},
   "outputs": [],
   "source": [
    "t = targets\n",
    "N = len(t) # t is the index\n",
    "p = np.zeros((N,N))\n",
    "x = inputs\n",
    "C = 10\n",
    "constraint={'type':'eq', 'fun':zerofun}\n",
    "XC = constraint\n",
    "\n",
    "for i in range(N):\n",
    "    for j in range(N):\n",
    "        p[i,j] = t[i]*t[j]*linear_kernal(x[i],x[j])   \n",
    "K = np.zeros((N,N))\n",
    "for i in range(N):\n",
    "    for j in range(N):\n",
    "        K[i,j] = linear_kernal(x[i],x[j])\n",
    "        \n",
    "N = len(x)\n",
    "start = np.zeros(N)\n",
    "B = [(0, C) for _ in range(N) ]\n",
    "#B = [(0, None) for b in range(N) ]\n",
    "\n",
    "\n",
    "ret = minimize(objective, start, bounds = B, constraints = XC)\n",
    "alpha = ret['x']\n",
    "\n",
    "b = compute_b(alpha, x, t, K)\n",
    "\n",
    "# Extract non-zero alphas (support vectors)\n",
    "support_vector_indices = np.where(alpha > 1e-5)[0]\n",
    "support_vectors = x[support_vector_indices]\n",
    "support_labels = t[support_vector_indices]\n",
    "support_alphas = alpha[support_vector_indices]\n",
    "\n"
   ]
  },
  {
   "cell_type": "code",
   "execution_count": 5,
   "id": "da73c03a-06dc-4d76-809b-29c363370900",
   "metadata": {},
   "outputs": [
    {
     "name": "stdout",
     "output_type": "stream",
     "text": [
      "(20, 2)\n"
     ]
    }
   ],
   "source": [
    "print(x.shape)"
   ]
  },
  {
   "cell_type": "code",
   "execution_count": 12,
   "id": "21511c50-4d29-4442-8602-1a680d606070",
   "metadata": {},
   "outputs": [
    {
     "data": {
      "image/png": "[encoded data removed]",
      "text/plain": [
       "<Figure size 640x480 with 1 Axes>"
      ]
     },
     "metadata": {},
     "output_type": "display_data"
    }
   ],
   "source": [
    "xgrid = np.linspace(-5,5)\n",
    "ygrid = np.linspace(-4,4)\n",
    "\n",
    "Xgrid, Ygrid = np.meshgrid(xgrid, ygrid)\n",
    "\n",
    "#grid = np.array([[compute_ind(alpha, x, t, K, b, ) for x in xgrid] for y in ygrid])\n",
    "x1 = x\n",
    "grid = np.array([compute_ind(alpha, x1, t, linear_kernal, b, np.array([x, y])) for x, y in zip(np.ravel(Xgrid), np.ravel(Ygrid))])\n",
    "grid = grid.reshape(Xgrid.shape)\n",
    "plt.contour(Xgrid, Ygrid, grid, levels=[-1,0,1], colors=('red', 'black', 'blue'), linewidths=(1,3,1))\n",
    "\n",
    "plt.scatter(x1[:, 0], x1[:, 1], c=t, cmap=plt.cm.Paired)\n",
    "\n",
    "# Plot the support vectorx\n",
    "support_vector_indices = np.where(alpha > 1e-5)[0]\n",
    "plt.scatter(x1[support_vector_indices, 0], x1[support_vector_indices, 1], \n",
    "            s=100, facecolors='none', edgecolors='k', label='Support Vectors')\n",
    "\n",
    "plt.legend()\n",
    "plt.show()\n"
   ]
  },
  {
   "cell_type": "code",
   "execution_count": 7,
   "id": "3dcc327d-18e5-4ca9-bb18-e3592a0a953b",
   "metadata": {},
   "outputs": [
    {
     "name": "stdout",
     "output_type": "stream",
     "text": [
      "[-17.00273969 -16.31637725 -15.63001482 -14.94365238 -14.25728995\n",
      " -13.57092752 -12.88456508 -12.19820265 -11.51184021 -10.82547778\n",
      " -10.13911534  -9.45275291  -8.76639047  -8.08002804  -7.39366561\n",
      "  -6.70730317  -6.02094074  -5.3345783   -4.64821587  -3.96185343\n",
      "  -3.275491    -2.58912857  -1.90276613  -1.2164037   -0.53004126\n",
      "   0.15632117   0.84268361   1.52904604   2.21540847   2.90177091\n",
      "   3.58813334   4.27449578   4.96085821   5.64722065   6.33358308\n",
      "   7.01994552   7.70630795   8.39267038   9.07903282   9.76539525\n",
      "  10.45175769  11.13812012  11.82448256  12.51084499  13.19720742\n",
      "  13.88356986  14.56993229  15.25629473  15.94265716  16.6290196 ]\n"
     ]
    }
   ],
   "source": [
    "print(grid)"
   ]
  },
  {
   "cell_type": "code",
   "execution_count": 8,
   "id": "43251c16-b402-43a0-b12e-2051d6e20c60",
   "metadata": {},
   "outputs": [
    {
     "name": "stdout",
     "output_type": "stream",
     "text": [
      "(20, 2)\n"
     ]
    }
   ],
   "source": [
    "print(x.shape)"
   ]
  }
 ],
 "metadata": {
  "kernelspec": {
   "display_name": "Python 3 (ipykernel)",
   "language": "python",
   "name": "python3"
  },
  "language_info": {
   "codemirror_mode": {
    "name": "ipython",
    "version": 3
   },
   "file_extension": ".py",
   "mimetype": "text/x-python",
   "name": "python",
   "nbconvert_exporter": "python",
   "pygments_lexer": "ipython3",
   "version": "3.13.1"
  }
 },
 "nbformat": 4,
 "nbformat_minor": 5
}
