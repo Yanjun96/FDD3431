{
 "cells": [
  {
   "cell_type": "code",
   "execution_count": 1,
   "id": "fdcce6de-7697-4572-a9ea-e6e039bcb6dd",
   "metadata": {},
   "outputs": [],
   "source": [
    "import monkdata as m\n",
    "from dtree import *"
   ]
  },
  {
   "cell_type": "markdown",
   "id": "6be644e0-ef7b-4c14-9113-c1f5014433e1",
   "metadata": {},
   "source": [
    "# Assignment 1"
   ]
  },
  {
   "cell_type": "code",
   "execution_count": 2,
   "id": "aea91ed8-1457-4255-bf26-5370b0469c5a",
   "metadata": {},
   "outputs": [
    {
     "name": "stdout",
     "output_type": "stream",
     "text": [
      "1.0\n"
     ]
    }
   ],
   "source": [
    "e1 = entropy(m.monk1)\n",
    "print(e1)"
   ]
  },
  {
   "cell_type": "code",
   "execution_count": 3,
   "id": "1ad1f301-1240-430d-b599-2b328365250e",
   "metadata": {},
   "outputs": [
    {
     "name": "stdout",
     "output_type": "stream",
     "text": [
      "0.957117428264771\n",
      "124\n"
     ]
    }
   ],
   "source": [
    "e2 = entropy(m.monk2)\n",
    "print(e2)\n",
    "print(len(m.monk1))"
   ]
  },
  {
   "cell_type": "code",
   "execution_count": 4,
   "id": "ec560563-249a-46ec-abb2-f802d5a499ff",
   "metadata": {},
   "outputs": [
    {
     "name": "stdout",
     "output_type": "stream",
     "text": [
      "0.9998061328047111\n"
     ]
    }
   ],
   "source": [
    "e3 = entropy(m.monk3)\n",
    "print(e3)"
   ]
  },
  {
   "cell_type": "markdown",
   "id": "d31cf31b-7cd6-45b1-97ef-f203b673fe86",
   "metadata": {},
   "source": [
    "# Assignment 2\n",
    "e4 is for uniform\n",
    "e5 is for non-uniform"
   ]
  },
  {
   "cell_type": "code",
   "execution_count": 5,
   "id": "11f19804-5c59-40fd-bc78-68bac4cfab62",
   "metadata": {},
   "outputs": [],
   "source": [
    "import numpy as np\n",
    "import math"
   ]
  },
  {
   "cell_type": "code",
   "execution_count": 6,
   "id": "ccbf07c8-3993-4e44-9705-4f1c4d5ed298",
   "metadata": {},
   "outputs": [
    {
     "name": "stdout",
     "output_type": "stream",
     "text": [
      "1.0\n",
      "0.4689955935892812\n"
     ]
    }
   ],
   "source": [
    "e4 = -(5/10)* math.log2(5/10) - (5/10)* math.log2(5/10)\n",
    "print(e4)\n",
    "e5 = -(9/10)* math.log2(9/10) - (1/10)* math.log2(1/10)\n",
    "print(e5)\n"
   ]
  },
  {
   "cell_type": "markdown",
   "id": "30ff2afd-9756-4c1d-b120-1a035d267b11",
   "metadata": {},
   "source": [
    "# Assignment 3\n"
   ]
  },
  {
   "cell_type": "code",
   "execution_count": 7,
   "id": "d0712088-8ac9-4657-88f4-9d2ad72e8db8",
   "metadata": {},
   "outputs": [
    {
     "name": "stdout",
     "output_type": "stream",
     "text": [
      "0.07527255560831925\n",
      "0.005838429962909286\n",
      "0.00470756661729721\n",
      "0.02631169650768228\n",
      "0.28703074971578435\n",
      "0.0007578557158638421\n",
      "new monk\n",
      "0.0037561773775118823\n",
      "0.0024584986660830532\n",
      "0.0010561477158920196\n",
      "0.015664247292643818\n",
      "0.01727717693791797\n",
      "0.006247622236881467\n",
      "new monk\n",
      "0.007120868396071844\n",
      "0.29373617350838865\n",
      "0.0008311140445336207\n",
      "0.002891817288654397\n",
      "0.25591172461972755\n",
      "0.007077026074097326\n",
      "new monk\n"
     ]
    }
   ],
   "source": [
    "for j in range(3):\n",
    "   name = 'monk'+str(j+1)\n",
    "   monk_class = getattr(m,name) \n",
    "   for i in range(6):\n",
    "     print(averageGain(monk_class, m.attributes[i]))\n",
    "     if i == 5:\n",
    "         print(\"new monk\")"
   ]
  },
  {
   "cell_type": "markdown",
   "id": "d88ad87c-65ab-48de-a45f-b7e870fb84e5",
   "metadata": {},
   "source": [
    "# Assignmentt 5"
   ]
  },
  {
   "cell_type": "code",
   "execution_count": 8,
   "id": "a0ef9089-9302-4dc7-9291-f1f4e14b1cb5",
   "metadata": {},
   "outputs": [],
   "source": [
    "new_monk1 = select(m.monk1, m.attributes[4],4)"
   ]
  },
  {
   "cell_type": "code",
   "execution_count": 9,
   "id": "1f36ca98-4480-4c42-a630-4a016bf4a839",
   "metadata": {},
   "outputs": [
    {
     "name": "stdout",
     "output_type": "stream",
     "text": [
      "0.20629074641530198\n",
      "0.033898395077640586\n",
      "0.025906145434984817\n",
      "0.07593290844153944\n",
      "0.0\n",
      "0.0033239629631565126\n"
     ]
    }
   ],
   "source": [
    "for i in range(6):\n",
    "     print(averageGain(new_monk1, m.attributes[i]))"
   ]
  },
  {
   "cell_type": "code",
   "execution_count": 10,
   "id": "b14fff83-cef4-4ba9-ae8b-828d9acec2cd",
   "metadata": {},
   "outputs": [],
   "source": [
    "new_monk2 = select(new_monk1, m.attributes[0],1)"
   ]
  },
  {
   "cell_type": "code",
   "execution_count": 11,
   "id": "b86716d8-e611-4d30-9a3b-e96e92b69a1a",
   "metadata": {},
   "outputs": [
    {
     "name": "stdout",
     "output_type": "stream",
     "text": [
      "False\n"
     ]
    }
   ],
   "source": [
    "new_dataset = mostCommon(new_monk2)\n",
    "print(new_dataset)"
   ]
  },
  {
   "cell_type": "code",
   "execution_count": 12,
   "id": "1fa1da02-cf71-4efa-a798-abfce1f7aaac",
   "metadata": {},
   "outputs": [
    {
     "name": "stdout",
     "output_type": "stream",
     "text": [
      "0.75\n"
     ]
    }
   ],
   "source": [
    "import dtree as d\n",
    "a =  d.buildTree(m.monk1, m.attributes, maxdepth=1)\n",
    "print(d.check(a,m.monk1test))"
   ]
  },
  {
   "cell_type": "code",
   "execution_count": 13,
   "id": "774213ef-887b-4367-9561-fa1cc57944ed",
   "metadata": {},
   "outputs": [
    {
     "name": "stdout",
     "output_type": "stream",
     "text": [
      "0.8287037037037037\n"
     ]
    }
   ],
   "source": [
    "import monkdata as m\n",
    "import dtree as d\n",
    "t = d.buildTree(m.monk1, m.attributes)\n",
    "print(d.check(t, m.monk1test))"
   ]
  },
  {
   "cell_type": "code",
   "execution_count": null,
   "id": "2c50ed7f-eb3f-4876-a711-9fd9c777c5ab",
   "metadata": {},
   "outputs": [
    {
     "ename": "TypeError",
     "evalue": "arguments did not match any overloaded call:\n  drawText(self, p: Union[QPointF, QPoint], s: Optional[str]): argument 1 has unexpected type 'float'\n  drawText(self, rectangle: QRectF, flags: int, text: Optional[str]): argument 1 has unexpected type 'float'\n  drawText(self, rectangle: QRect, flags: int, text: Optional[str]): argument 1 has unexpected type 'float'\n  drawText(self, rectangle: QRectF, text: Optional[str], option: QTextOption = QTextOption()): argument 1 has unexpected type 'float'\n  drawText(self, p: QPoint, s: Optional[str]): argument 1 has unexpected type 'float'\n  drawText(self, x: int, y: int, width: int, height: int, flags: int, text: Optional[str]): argument 1 has unexpected type 'float'\n  drawText(self, x: int, y: int, s: Optional[str]): argument 1 has unexpected type 'float'",
     "output_type": "error",
     "traceback": [
      "\u001b[0;31m---------------------------------------------------------------------------\u001b[0m",
      "\u001b[0;31mTypeError\u001b[0m                                 Traceback (most recent call last)",
      "File \u001b[0;32m~/Documents/courses/fdd3431/labs/lab1_dectrees/python/drawtree_qt5.py:35\u001b[0m, in \u001b[0;36mMyPainting.paintEvent\u001b[0;34m(self, ev)\u001b[0m\n\u001b[1;32m     33\u001b[0m p\u001b[38;5;241m.\u001b[39mbegin(\u001b[38;5;28mself\u001b[39m)\n\u001b[1;32m     34\u001b[0m p\u001b[38;5;241m.\u001b[39msetPen (QtGui\u001b[38;5;241m.\u001b[39mQPen(QtGui\u001b[38;5;241m.\u001b[39mQColor(\u001b[38;5;241m0\u001b[39m,\u001b[38;5;241m0\u001b[39m,\u001b[38;5;241m0\u001b[39m), \u001b[38;5;241m1\u001b[39m))\n\u001b[0;32m---> 35\u001b[0m \u001b[43mdraw\u001b[49m\u001b[43m(\u001b[49m\u001b[43mp\u001b[49m\u001b[43m,\u001b[49m\u001b[43m \u001b[49m\u001b[38;5;28;43mself\u001b[39;49m\u001b[38;5;241;43m.\u001b[39;49m\u001b[43mtree\u001b[49m\u001b[43m,\u001b[49m\u001b[43m \u001b[49m\u001b[38;5;241;43m10\u001b[39;49m\u001b[43m,\u001b[49m\u001b[43m \u001b[49m\u001b[38;5;241;43m10\u001b[39;49m\u001b[43m)\u001b[49m\n\u001b[1;32m     36\u001b[0m p\u001b[38;5;241m.\u001b[39mend()\n",
      "File \u001b[0;32m~/Documents/courses/fdd3431/labs/lab1_dectrees/python/drawtree_qt5.py:46\u001b[0m, in \u001b[0;36mdraw\u001b[0;34m(p, t, x, y)\u001b[0m\n\u001b[1;32m     44\u001b[0m anchors \u001b[38;5;241m=\u001b[39m []\n\u001b[1;32m     45\u001b[0m \u001b[38;5;28;01mfor\u001b[39;00m b \u001b[38;5;129;01min\u001b[39;00m t\u001b[38;5;241m.\u001b[39mbranches:\n\u001b[0;32m---> 46\u001b[0m     mid, xx \u001b[38;5;241m=\u001b[39m \u001b[43mdraw\u001b[49m\u001b[43m(\u001b[49m\u001b[43mp\u001b[49m\u001b[43m,\u001b[49m\u001b[43m \u001b[49m\u001b[43mt\u001b[49m\u001b[38;5;241;43m.\u001b[39;49m\u001b[43mbranches\u001b[49m\u001b[43m[\u001b[49m\u001b[43mb\u001b[49m\u001b[43m]\u001b[49m\u001b[43m,\u001b[49m\u001b[43m \u001b[49m\u001b[43mxx\u001b[49m\u001b[43m,\u001b[49m\u001b[43m \u001b[49m\u001b[43my\u001b[49m\u001b[38;5;241;43m+\u001b[39;49m\u001b[38;5;241;43m70\u001b[39;49m\u001b[43m)\u001b[49m\n\u001b[1;32m     47\u001b[0m     p\u001b[38;5;241m.\u001b[39mdrawText(mid\u001b[38;5;241m-\u001b[39m\u001b[38;5;241m3\u001b[39m, y\u001b[38;5;241m+\u001b[39m\u001b[38;5;241m68\u001b[39m, \u001b[38;5;28mstr\u001b[39m(b))\n\u001b[1;32m     48\u001b[0m     anchors\u001b[38;5;241m.\u001b[39mappend(mid)\n",
      "File \u001b[0;32m~/Documents/courses/fdd3431/labs/lab1_dectrees/python/drawtree_qt5.py:46\u001b[0m, in \u001b[0;36mdraw\u001b[0;34m(p, t, x, y)\u001b[0m\n\u001b[1;32m     44\u001b[0m anchors \u001b[38;5;241m=\u001b[39m []\n\u001b[1;32m     45\u001b[0m \u001b[38;5;28;01mfor\u001b[39;00m b \u001b[38;5;129;01min\u001b[39;00m t\u001b[38;5;241m.\u001b[39mbranches:\n\u001b[0;32m---> 46\u001b[0m     mid, xx \u001b[38;5;241m=\u001b[39m \u001b[43mdraw\u001b[49m\u001b[43m(\u001b[49m\u001b[43mp\u001b[49m\u001b[43m,\u001b[49m\u001b[43m \u001b[49m\u001b[43mt\u001b[49m\u001b[38;5;241;43m.\u001b[39;49m\u001b[43mbranches\u001b[49m\u001b[43m[\u001b[49m\u001b[43mb\u001b[49m\u001b[43m]\u001b[49m\u001b[43m,\u001b[49m\u001b[43m \u001b[49m\u001b[43mxx\u001b[49m\u001b[43m,\u001b[49m\u001b[43m \u001b[49m\u001b[43my\u001b[49m\u001b[38;5;241;43m+\u001b[39;49m\u001b[38;5;241;43m70\u001b[39;49m\u001b[43m)\u001b[49m\n\u001b[1;32m     47\u001b[0m     p\u001b[38;5;241m.\u001b[39mdrawText(mid\u001b[38;5;241m-\u001b[39m\u001b[38;5;241m3\u001b[39m, y\u001b[38;5;241m+\u001b[39m\u001b[38;5;241m68\u001b[39m, \u001b[38;5;28mstr\u001b[39m(b))\n\u001b[1;32m     48\u001b[0m     anchors\u001b[38;5;241m.\u001b[39mappend(mid)\n",
      "File \u001b[0;32m~/Documents/courses/fdd3431/labs/lab1_dectrees/python/drawtree_qt5.py:46\u001b[0m, in \u001b[0;36mdraw\u001b[0;34m(p, t, x, y)\u001b[0m\n\u001b[1;32m     44\u001b[0m anchors \u001b[38;5;241m=\u001b[39m []\n\u001b[1;32m     45\u001b[0m \u001b[38;5;28;01mfor\u001b[39;00m b \u001b[38;5;129;01min\u001b[39;00m t\u001b[38;5;241m.\u001b[39mbranches:\n\u001b[0;32m---> 46\u001b[0m     mid, xx \u001b[38;5;241m=\u001b[39m \u001b[43mdraw\u001b[49m\u001b[43m(\u001b[49m\u001b[43mp\u001b[49m\u001b[43m,\u001b[49m\u001b[43m \u001b[49m\u001b[43mt\u001b[49m\u001b[38;5;241;43m.\u001b[39;49m\u001b[43mbranches\u001b[49m\u001b[43m[\u001b[49m\u001b[43mb\u001b[49m\u001b[43m]\u001b[49m\u001b[43m,\u001b[49m\u001b[43m \u001b[49m\u001b[43mxx\u001b[49m\u001b[43m,\u001b[49m\u001b[43m \u001b[49m\u001b[43my\u001b[49m\u001b[38;5;241;43m+\u001b[39;49m\u001b[38;5;241;43m70\u001b[39;49m\u001b[43m)\u001b[49m\n\u001b[1;32m     47\u001b[0m     p\u001b[38;5;241m.\u001b[39mdrawText(mid\u001b[38;5;241m-\u001b[39m\u001b[38;5;241m3\u001b[39m, y\u001b[38;5;241m+\u001b[39m\u001b[38;5;241m68\u001b[39m, \u001b[38;5;28mstr\u001b[39m(b))\n\u001b[1;32m     48\u001b[0m     anchors\u001b[38;5;241m.\u001b[39mappend(mid)\n",
      "File \u001b[0;32m~/Documents/courses/fdd3431/labs/lab1_dectrees/python/drawtree_qt5.py:50\u001b[0m, in \u001b[0;36mdraw\u001b[0;34m(p, t, x, y)\u001b[0m\n\u001b[1;32m     48\u001b[0m     anchors\u001b[38;5;241m.\u001b[39mappend(mid)\n\u001b[1;32m     49\u001b[0m newMid \u001b[38;5;241m=\u001b[39m (x\u001b[38;5;241m+\u001b[39mxx)\u001b[38;5;241m/\u001b[39m\u001b[38;5;241m2\u001b[39m\n\u001b[0;32m---> 50\u001b[0m \u001b[43mp\u001b[49m\u001b[38;5;241;43m.\u001b[39;49m\u001b[43mdrawText\u001b[49m\u001b[43m(\u001b[49m\u001b[43mnewMid\u001b[49m\u001b[38;5;241;43m-\u001b[39;49m\u001b[38;5;241;43m7\u001b[39;49m\u001b[43m,\u001b[49m\u001b[43m \u001b[49m\u001b[43my\u001b[49m\u001b[38;5;241;43m+\u001b[39;49m\u001b[38;5;241;43m15\u001b[39;49m\u001b[43m,\u001b[49m\u001b[43m \u001b[49m\u001b[43mt\u001b[49m\u001b[38;5;241;43m.\u001b[39;49m\u001b[43mattribute\u001b[49m\u001b[38;5;241;43m.\u001b[39;49m\u001b[43mname\u001b[49m\u001b[43m)\u001b[49m\n\u001b[1;32m     51\u001b[0m p\u001b[38;5;241m.\u001b[39mdrawEllipse(newMid\u001b[38;5;241m-\u001b[39m\u001b[38;5;241m15\u001b[39m, y, \u001b[38;5;241m30\u001b[39m, \u001b[38;5;241m20\u001b[39m)\n\u001b[1;32m     52\u001b[0m \u001b[38;5;28;01mfor\u001b[39;00m m \u001b[38;5;129;01min\u001b[39;00m anchors:\n",
      "\u001b[0;31mTypeError\u001b[0m: arguments did not match any overloaded call:\n  drawText(self, p: Union[QPointF, QPoint], s: Optional[str]): argument 1 has unexpected type 'float'\n  drawText(self, rectangle: QRectF, flags: int, text: Optional[str]): argument 1 has unexpected type 'float'\n  drawText(self, rectangle: QRect, flags: int, text: Optional[str]): argument 1 has unexpected type 'float'\n  drawText(self, rectangle: QRectF, text: Optional[str], option: QTextOption = QTextOption()): argument 1 has unexpected type 'float'\n  drawText(self, p: QPoint, s: Optional[str]): argument 1 has unexpected type 'float'\n  drawText(self, x: int, y: int, width: int, height: int, flags: int, text: Optional[str]): argument 1 has unexpected type 'float'\n  drawText(self, x: int, y: int, s: Optional[str]): argument 1 has unexpected type 'float'"
     ]
    },
    {
     "name": "stderr",
     "output_type": "stream",
     "text": [
      "QBackingStore::endPaint() called with active painter; did you forget to destroy it or call QPainter::end() on it?\n",
      "2025-01-30 16:06:22.106 python[53356:2831055] +[IMKClient subclass]: chose IMKClient_Modern\n"
     ]
    },
    {
     "ename": "TypeError",
     "evalue": "arguments did not match any overloaded call:\n  drawText(self, p: Union[QPointF, QPoint], s: Optional[str]): argument 1 has unexpected type 'float'\n  drawText(self, rectangle: QRectF, flags: int, text: Optional[str]): argument 1 has unexpected type 'float'\n  drawText(self, rectangle: QRect, flags: int, text: Optional[str]): argument 1 has unexpected type 'float'\n  drawText(self, rectangle: QRectF, text: Optional[str], option: QTextOption = QTextOption()): argument 1 has unexpected type 'float'\n  drawText(self, p: QPoint, s: Optional[str]): argument 1 has unexpected type 'float'\n  drawText(self, x: int, y: int, width: int, height: int, flags: int, text: Optional[str]): argument 1 has unexpected type 'float'\n  drawText(self, x: int, y: int, s: Optional[str]): argument 1 has unexpected type 'float'",
     "output_type": "error",
     "traceback": [
      "\u001b[0;31m---------------------------------------------------------------------------\u001b[0m",
      "\u001b[0;31mTypeError\u001b[0m                                 Traceback (most recent call last)",
      "File \u001b[0;32m~/Documents/courses/fdd3431/labs/lab1_dectrees/python/drawtree_qt5.py:35\u001b[0m, in \u001b[0;36mMyPainting.paintEvent\u001b[0;34m(self, ev)\u001b[0m\n\u001b[1;32m     33\u001b[0m p\u001b[38;5;241m.\u001b[39mbegin(\u001b[38;5;28mself\u001b[39m)\n\u001b[1;32m     34\u001b[0m p\u001b[38;5;241m.\u001b[39msetPen (QtGui\u001b[38;5;241m.\u001b[39mQPen(QtGui\u001b[38;5;241m.\u001b[39mQColor(\u001b[38;5;241m0\u001b[39m,\u001b[38;5;241m0\u001b[39m,\u001b[38;5;241m0\u001b[39m), \u001b[38;5;241m1\u001b[39m))\n\u001b[0;32m---> 35\u001b[0m \u001b[43mdraw\u001b[49m\u001b[43m(\u001b[49m\u001b[43mp\u001b[49m\u001b[43m,\u001b[49m\u001b[43m \u001b[49m\u001b[38;5;28;43mself\u001b[39;49m\u001b[38;5;241;43m.\u001b[39;49m\u001b[43mtree\u001b[49m\u001b[43m,\u001b[49m\u001b[43m \u001b[49m\u001b[38;5;241;43m10\u001b[39;49m\u001b[43m,\u001b[49m\u001b[43m \u001b[49m\u001b[38;5;241;43m10\u001b[39;49m\u001b[43m)\u001b[49m\n\u001b[1;32m     36\u001b[0m p\u001b[38;5;241m.\u001b[39mend()\n",
      "File \u001b[0;32m~/Documents/courses/fdd3431/labs/lab1_dectrees/python/drawtree_qt5.py:46\u001b[0m, in \u001b[0;36mdraw\u001b[0;34m(p, t, x, y)\u001b[0m\n\u001b[1;32m     44\u001b[0m anchors \u001b[38;5;241m=\u001b[39m []\n\u001b[1;32m     45\u001b[0m \u001b[38;5;28;01mfor\u001b[39;00m b \u001b[38;5;129;01min\u001b[39;00m t\u001b[38;5;241m.\u001b[39mbranches:\n\u001b[0;32m---> 46\u001b[0m     mid, xx \u001b[38;5;241m=\u001b[39m \u001b[43mdraw\u001b[49m\u001b[43m(\u001b[49m\u001b[43mp\u001b[49m\u001b[43m,\u001b[49m\u001b[43m \u001b[49m\u001b[43mt\u001b[49m\u001b[38;5;241;43m.\u001b[39;49m\u001b[43mbranches\u001b[49m\u001b[43m[\u001b[49m\u001b[43mb\u001b[49m\u001b[43m]\u001b[49m\u001b[43m,\u001b[49m\u001b[43m \u001b[49m\u001b[43mxx\u001b[49m\u001b[43m,\u001b[49m\u001b[43m \u001b[49m\u001b[43my\u001b[49m\u001b[38;5;241;43m+\u001b[39;49m\u001b[38;5;241;43m70\u001b[39;49m\u001b[43m)\u001b[49m\n\u001b[1;32m     47\u001b[0m     p\u001b[38;5;241m.\u001b[39mdrawText(mid\u001b[38;5;241m-\u001b[39m\u001b[38;5;241m3\u001b[39m, y\u001b[38;5;241m+\u001b[39m\u001b[38;5;241m68\u001b[39m, \u001b[38;5;28mstr\u001b[39m(b))\n\u001b[1;32m     48\u001b[0m     anchors\u001b[38;5;241m.\u001b[39mappend(mid)\n",
      "File \u001b[0;32m~/Documents/courses/fdd3431/labs/lab1_dectrees/python/drawtree_qt5.py:46\u001b[0m, in \u001b[0;36mdraw\u001b[0;34m(p, t, x, y)\u001b[0m\n\u001b[1;32m     44\u001b[0m anchors \u001b[38;5;241m=\u001b[39m []\n\u001b[1;32m     45\u001b[0m \u001b[38;5;28;01mfor\u001b[39;00m b \u001b[38;5;129;01min\u001b[39;00m t\u001b[38;5;241m.\u001b[39mbranches:\n\u001b[0;32m---> 46\u001b[0m     mid, xx \u001b[38;5;241m=\u001b[39m \u001b[43mdraw\u001b[49m\u001b[43m(\u001b[49m\u001b[43mp\u001b[49m\u001b[43m,\u001b[49m\u001b[43m \u001b[49m\u001b[43mt\u001b[49m\u001b[38;5;241;43m.\u001b[39;49m\u001b[43mbranches\u001b[49m\u001b[43m[\u001b[49m\u001b[43mb\u001b[49m\u001b[43m]\u001b[49m\u001b[43m,\u001b[49m\u001b[43m \u001b[49m\u001b[43mxx\u001b[49m\u001b[43m,\u001b[49m\u001b[43m \u001b[49m\u001b[43my\u001b[49m\u001b[38;5;241;43m+\u001b[39;49m\u001b[38;5;241;43m70\u001b[39;49m\u001b[43m)\u001b[49m\n\u001b[1;32m     47\u001b[0m     p\u001b[38;5;241m.\u001b[39mdrawText(mid\u001b[38;5;241m-\u001b[39m\u001b[38;5;241m3\u001b[39m, y\u001b[38;5;241m+\u001b[39m\u001b[38;5;241m68\u001b[39m, \u001b[38;5;28mstr\u001b[39m(b))\n\u001b[1;32m     48\u001b[0m     anchors\u001b[38;5;241m.\u001b[39mappend(mid)\n",
      "File \u001b[0;32m~/Documents/courses/fdd3431/labs/lab1_dectrees/python/drawtree_qt5.py:46\u001b[0m, in \u001b[0;36mdraw\u001b[0;34m(p, t, x, y)\u001b[0m\n\u001b[1;32m     44\u001b[0m anchors \u001b[38;5;241m=\u001b[39m []\n\u001b[1;32m     45\u001b[0m \u001b[38;5;28;01mfor\u001b[39;00m b \u001b[38;5;129;01min\u001b[39;00m t\u001b[38;5;241m.\u001b[39mbranches:\n\u001b[0;32m---> 46\u001b[0m     mid, xx \u001b[38;5;241m=\u001b[39m \u001b[43mdraw\u001b[49m\u001b[43m(\u001b[49m\u001b[43mp\u001b[49m\u001b[43m,\u001b[49m\u001b[43m \u001b[49m\u001b[43mt\u001b[49m\u001b[38;5;241;43m.\u001b[39;49m\u001b[43mbranches\u001b[49m\u001b[43m[\u001b[49m\u001b[43mb\u001b[49m\u001b[43m]\u001b[49m\u001b[43m,\u001b[49m\u001b[43m \u001b[49m\u001b[43mxx\u001b[49m\u001b[43m,\u001b[49m\u001b[43m \u001b[49m\u001b[43my\u001b[49m\u001b[38;5;241;43m+\u001b[39;49m\u001b[38;5;241;43m70\u001b[39;49m\u001b[43m)\u001b[49m\n\u001b[1;32m     47\u001b[0m     p\u001b[38;5;241m.\u001b[39mdrawText(mid\u001b[38;5;241m-\u001b[39m\u001b[38;5;241m3\u001b[39m, y\u001b[38;5;241m+\u001b[39m\u001b[38;5;241m68\u001b[39m, \u001b[38;5;28mstr\u001b[39m(b))\n\u001b[1;32m     48\u001b[0m     anchors\u001b[38;5;241m.\u001b[39mappend(mid)\n",
      "File \u001b[0;32m~/Documents/courses/fdd3431/labs/lab1_dectrees/python/drawtree_qt5.py:50\u001b[0m, in \u001b[0;36mdraw\u001b[0;34m(p, t, x, y)\u001b[0m\n\u001b[1;32m     48\u001b[0m     anchors\u001b[38;5;241m.\u001b[39mappend(mid)\n\u001b[1;32m     49\u001b[0m newMid \u001b[38;5;241m=\u001b[39m (x\u001b[38;5;241m+\u001b[39mxx)\u001b[38;5;241m/\u001b[39m\u001b[38;5;241m2\u001b[39m\n\u001b[0;32m---> 50\u001b[0m \u001b[43mp\u001b[49m\u001b[38;5;241;43m.\u001b[39;49m\u001b[43mdrawText\u001b[49m\u001b[43m(\u001b[49m\u001b[43mnewMid\u001b[49m\u001b[38;5;241;43m-\u001b[39;49m\u001b[38;5;241;43m7\u001b[39;49m\u001b[43m,\u001b[49m\u001b[43m \u001b[49m\u001b[43my\u001b[49m\u001b[38;5;241;43m+\u001b[39;49m\u001b[38;5;241;43m15\u001b[39;49m\u001b[43m,\u001b[49m\u001b[43m \u001b[49m\u001b[43mt\u001b[49m\u001b[38;5;241;43m.\u001b[39;49m\u001b[43mattribute\u001b[49m\u001b[38;5;241;43m.\u001b[39;49m\u001b[43mname\u001b[49m\u001b[43m)\u001b[49m\n\u001b[1;32m     51\u001b[0m p\u001b[38;5;241m.\u001b[39mdrawEllipse(newMid\u001b[38;5;241m-\u001b[39m\u001b[38;5;241m15\u001b[39m, y, \u001b[38;5;241m30\u001b[39m, \u001b[38;5;241m20\u001b[39m)\n\u001b[1;32m     52\u001b[0m \u001b[38;5;28;01mfor\u001b[39;00m m \u001b[38;5;129;01min\u001b[39;00m anchors:\n",
      "\u001b[0;31mTypeError\u001b[0m: arguments did not match any overloaded call:\n  drawText(self, p: Union[QPointF, QPoint], s: Optional[str]): argument 1 has unexpected type 'float'\n  drawText(self, rectangle: QRectF, flags: int, text: Optional[str]): argument 1 has unexpected type 'float'\n  drawText(self, rectangle: QRect, flags: int, text: Optional[str]): argument 1 has unexpected type 'float'\n  drawText(self, rectangle: QRectF, text: Optional[str], option: QTextOption = QTextOption()): argument 1 has unexpected type 'float'\n  drawText(self, p: QPoint, s: Optional[str]): argument 1 has unexpected type 'float'\n  drawText(self, x: int, y: int, width: int, height: int, flags: int, text: Optional[str]): argument 1 has unexpected type 'float'\n  drawText(self, x: int, y: int, s: Optional[str]): argument 1 has unexpected type 'float'"
     ]
    },
    {
     "ename": "TypeError",
     "evalue": "arguments did not match any overloaded call:\n  drawText(self, p: Union[QPointF, QPoint], s: Optional[str]): argument 1 has unexpected type 'float'\n  drawText(self, rectangle: QRectF, flags: int, text: Optional[str]): argument 1 has unexpected type 'float'\n  drawText(self, rectangle: QRect, flags: int, text: Optional[str]): argument 1 has unexpected type 'float'\n  drawText(self, rectangle: QRectF, text: Optional[str], option: QTextOption = QTextOption()): argument 1 has unexpected type 'float'\n  drawText(self, p: QPoint, s: Optional[str]): argument 1 has unexpected type 'float'\n  drawText(self, x: int, y: int, width: int, height: int, flags: int, text: Optional[str]): argument 1 has unexpected type 'float'\n  drawText(self, x: int, y: int, s: Optional[str]): argument 1 has unexpected type 'float'",
     "output_type": "error",
     "traceback": [
      "\u001b[0;31m---------------------------------------------------------------------------\u001b[0m",
      "\u001b[0;31mTypeError\u001b[0m                                 Traceback (most recent call last)",
      "File \u001b[0;32m~/Documents/courses/fdd3431/labs/lab1_dectrees/python/drawtree_qt5.py:35\u001b[0m, in \u001b[0;36mMyPainting.paintEvent\u001b[0;34m(self, ev)\u001b[0m\n\u001b[1;32m     33\u001b[0m p\u001b[38;5;241m.\u001b[39mbegin(\u001b[38;5;28mself\u001b[39m)\n\u001b[1;32m     34\u001b[0m p\u001b[38;5;241m.\u001b[39msetPen (QtGui\u001b[38;5;241m.\u001b[39mQPen(QtGui\u001b[38;5;241m.\u001b[39mQColor(\u001b[38;5;241m0\u001b[39m,\u001b[38;5;241m0\u001b[39m,\u001b[38;5;241m0\u001b[39m), \u001b[38;5;241m1\u001b[39m))\n\u001b[0;32m---> 35\u001b[0m \u001b[43mdraw\u001b[49m\u001b[43m(\u001b[49m\u001b[43mp\u001b[49m\u001b[43m,\u001b[49m\u001b[43m \u001b[49m\u001b[38;5;28;43mself\u001b[39;49m\u001b[38;5;241;43m.\u001b[39;49m\u001b[43mtree\u001b[49m\u001b[43m,\u001b[49m\u001b[43m \u001b[49m\u001b[38;5;241;43m10\u001b[39;49m\u001b[43m,\u001b[49m\u001b[43m \u001b[49m\u001b[38;5;241;43m10\u001b[39;49m\u001b[43m)\u001b[49m\n\u001b[1;32m     36\u001b[0m p\u001b[38;5;241m.\u001b[39mend()\n",
      "File \u001b[0;32m~/Documents/courses/fdd3431/labs/lab1_dectrees/python/drawtree_qt5.py:46\u001b[0m, in \u001b[0;36mdraw\u001b[0;34m(p, t, x, y)\u001b[0m\n\u001b[1;32m     44\u001b[0m anchors \u001b[38;5;241m=\u001b[39m []\n\u001b[1;32m     45\u001b[0m \u001b[38;5;28;01mfor\u001b[39;00m b \u001b[38;5;129;01min\u001b[39;00m t\u001b[38;5;241m.\u001b[39mbranches:\n\u001b[0;32m---> 46\u001b[0m     mid, xx \u001b[38;5;241m=\u001b[39m \u001b[43mdraw\u001b[49m\u001b[43m(\u001b[49m\u001b[43mp\u001b[49m\u001b[43m,\u001b[49m\u001b[43m \u001b[49m\u001b[43mt\u001b[49m\u001b[38;5;241;43m.\u001b[39;49m\u001b[43mbranches\u001b[49m\u001b[43m[\u001b[49m\u001b[43mb\u001b[49m\u001b[43m]\u001b[49m\u001b[43m,\u001b[49m\u001b[43m \u001b[49m\u001b[43mxx\u001b[49m\u001b[43m,\u001b[49m\u001b[43m \u001b[49m\u001b[43my\u001b[49m\u001b[38;5;241;43m+\u001b[39;49m\u001b[38;5;241;43m70\u001b[39;49m\u001b[43m)\u001b[49m\n\u001b[1;32m     47\u001b[0m     p\u001b[38;5;241m.\u001b[39mdrawText(mid\u001b[38;5;241m-\u001b[39m\u001b[38;5;241m3\u001b[39m, y\u001b[38;5;241m+\u001b[39m\u001b[38;5;241m68\u001b[39m, \u001b[38;5;28mstr\u001b[39m(b))\n\u001b[1;32m     48\u001b[0m     anchors\u001b[38;5;241m.\u001b[39mappend(mid)\n",
      "File \u001b[0;32m~/Documents/courses/fdd3431/labs/lab1_dectrees/python/drawtree_qt5.py:46\u001b[0m, in \u001b[0;36mdraw\u001b[0;34m(p, t, x, y)\u001b[0m\n\u001b[1;32m     44\u001b[0m anchors \u001b[38;5;241m=\u001b[39m []\n\u001b[1;32m     45\u001b[0m \u001b[38;5;28;01mfor\u001b[39;00m b \u001b[38;5;129;01min\u001b[39;00m t\u001b[38;5;241m.\u001b[39mbranches:\n\u001b[0;32m---> 46\u001b[0m     mid, xx \u001b[38;5;241m=\u001b[39m \u001b[43mdraw\u001b[49m\u001b[43m(\u001b[49m\u001b[43mp\u001b[49m\u001b[43m,\u001b[49m\u001b[43m \u001b[49m\u001b[43mt\u001b[49m\u001b[38;5;241;43m.\u001b[39;49m\u001b[43mbranches\u001b[49m\u001b[43m[\u001b[49m\u001b[43mb\u001b[49m\u001b[43m]\u001b[49m\u001b[43m,\u001b[49m\u001b[43m \u001b[49m\u001b[43mxx\u001b[49m\u001b[43m,\u001b[49m\u001b[43m \u001b[49m\u001b[43my\u001b[49m\u001b[38;5;241;43m+\u001b[39;49m\u001b[38;5;241;43m70\u001b[39;49m\u001b[43m)\u001b[49m\n\u001b[1;32m     47\u001b[0m     p\u001b[38;5;241m.\u001b[39mdrawText(mid\u001b[38;5;241m-\u001b[39m\u001b[38;5;241m3\u001b[39m, y\u001b[38;5;241m+\u001b[39m\u001b[38;5;241m68\u001b[39m, \u001b[38;5;28mstr\u001b[39m(b))\n\u001b[1;32m     48\u001b[0m     anchors\u001b[38;5;241m.\u001b[39mappend(mid)\n",
      "File \u001b[0;32m~/Documents/courses/fdd3431/labs/lab1_dectrees/python/drawtree_qt5.py:46\u001b[0m, in \u001b[0;36mdraw\u001b[0;34m(p, t, x, y)\u001b[0m\n\u001b[1;32m     44\u001b[0m anchors \u001b[38;5;241m=\u001b[39m []\n\u001b[1;32m     45\u001b[0m \u001b[38;5;28;01mfor\u001b[39;00m b \u001b[38;5;129;01min\u001b[39;00m t\u001b[38;5;241m.\u001b[39mbranches:\n\u001b[0;32m---> 46\u001b[0m     mid, xx \u001b[38;5;241m=\u001b[39m \u001b[43mdraw\u001b[49m\u001b[43m(\u001b[49m\u001b[43mp\u001b[49m\u001b[43m,\u001b[49m\u001b[43m \u001b[49m\u001b[43mt\u001b[49m\u001b[38;5;241;43m.\u001b[39;49m\u001b[43mbranches\u001b[49m\u001b[43m[\u001b[49m\u001b[43mb\u001b[49m\u001b[43m]\u001b[49m\u001b[43m,\u001b[49m\u001b[43m \u001b[49m\u001b[43mxx\u001b[49m\u001b[43m,\u001b[49m\u001b[43m \u001b[49m\u001b[43my\u001b[49m\u001b[38;5;241;43m+\u001b[39;49m\u001b[38;5;241;43m70\u001b[39;49m\u001b[43m)\u001b[49m\n\u001b[1;32m     47\u001b[0m     p\u001b[38;5;241m.\u001b[39mdrawText(mid\u001b[38;5;241m-\u001b[39m\u001b[38;5;241m3\u001b[39m, y\u001b[38;5;241m+\u001b[39m\u001b[38;5;241m68\u001b[39m, \u001b[38;5;28mstr\u001b[39m(b))\n\u001b[1;32m     48\u001b[0m     anchors\u001b[38;5;241m.\u001b[39mappend(mid)\n",
      "File \u001b[0;32m~/Documents/courses/fdd3431/labs/lab1_dectrees/python/drawtree_qt5.py:50\u001b[0m, in \u001b[0;36mdraw\u001b[0;34m(p, t, x, y)\u001b[0m\n\u001b[1;32m     48\u001b[0m     anchors\u001b[38;5;241m.\u001b[39mappend(mid)\n\u001b[1;32m     49\u001b[0m newMid \u001b[38;5;241m=\u001b[39m (x\u001b[38;5;241m+\u001b[39mxx)\u001b[38;5;241m/\u001b[39m\u001b[38;5;241m2\u001b[39m\n\u001b[0;32m---> 50\u001b[0m \u001b[43mp\u001b[49m\u001b[38;5;241;43m.\u001b[39;49m\u001b[43mdrawText\u001b[49m\u001b[43m(\u001b[49m\u001b[43mnewMid\u001b[49m\u001b[38;5;241;43m-\u001b[39;49m\u001b[38;5;241;43m7\u001b[39;49m\u001b[43m,\u001b[49m\u001b[43m \u001b[49m\u001b[43my\u001b[49m\u001b[38;5;241;43m+\u001b[39;49m\u001b[38;5;241;43m15\u001b[39;49m\u001b[43m,\u001b[49m\u001b[43m \u001b[49m\u001b[43mt\u001b[49m\u001b[38;5;241;43m.\u001b[39;49m\u001b[43mattribute\u001b[49m\u001b[38;5;241;43m.\u001b[39;49m\u001b[43mname\u001b[49m\u001b[43m)\u001b[49m\n\u001b[1;32m     51\u001b[0m p\u001b[38;5;241m.\u001b[39mdrawEllipse(newMid\u001b[38;5;241m-\u001b[39m\u001b[38;5;241m15\u001b[39m, y, \u001b[38;5;241m30\u001b[39m, \u001b[38;5;241m20\u001b[39m)\n\u001b[1;32m     52\u001b[0m \u001b[38;5;28;01mfor\u001b[39;00m m \u001b[38;5;129;01min\u001b[39;00m anchors:\n",
      "\u001b[0;31mTypeError\u001b[0m: arguments did not match any overloaded call:\n  drawText(self, p: Union[QPointF, QPoint], s: Optional[str]): argument 1 has unexpected type 'float'\n  drawText(self, rectangle: QRectF, flags: int, text: Optional[str]): argument 1 has unexpected type 'float'\n  drawText(self, rectangle: QRect, flags: int, text: Optional[str]): argument 1 has unexpected type 'float'\n  drawText(self, rectangle: QRectF, text: Optional[str], option: QTextOption = QTextOption()): argument 1 has unexpected type 'float'\n  drawText(self, p: QPoint, s: Optional[str]): argument 1 has unexpected type 'float'\n  drawText(self, x: int, y: int, width: int, height: int, flags: int, text: Optional[str]): argument 1 has unexpected type 'float'\n  drawText(self, x: int, y: int, s: Optional[str]): argument 1 has unexpected type 'float'"
     ]
    },
    {
     "name": "stderr",
     "output_type": "stream",
     "text": [
      "QBackingStore::endPaint() called with active painter; did you forget to destroy it or call QPainter::end() on it?\n"
     ]
    }
   ],
   "source": [
    "from drawtree_qt5 import *\n",
    "drawTree(t)"
   ]
  },
  {
   "cell_type": "code",
   "execution_count": null,
   "id": "ee84348a-f82a-4017-890a-afd20b8a67a9",
   "metadata": {},
   "outputs": [],
   "source": []
  }
 ],
 "metadata": {
  "kernelspec": {
   "display_name": "Python 3 (ipykernel)",
   "language": "python",
   "name": "python3"
  },
  "language_info": {
   "codemirror_mode": {
    "name": "ipython",
    "version": 3
   },
   "file_extension": ".py",
   "mimetype": "text/x-python",
   "name": "python",
   "nbconvert_exporter": "python",
   "pygments_lexer": "ipython3",
   "version": "3.13.1"
  }
 },
 "nbformat": 4,
 "nbformat_minor": 5
}
