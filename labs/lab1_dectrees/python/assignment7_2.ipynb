{
 "cells": [
  {
   "cell_type": "code",
   "execution_count": 7,
   "id": "c6372f1b-99ce-4120-9dee-6b8cacdac8c8",
   "metadata": {},
   "outputs": [],
   "source": [
    "import monkdata as m\n",
    "from dtree import *\n",
    "import dtree as d\n",
    "import numpy as np\n",
    "\n",
    "import random\n",
    "def partition(data, fraction):\n",
    "    ldata = list(data)\n",
    "    random.shuffle(ldata)\n",
    "    breakPoint = int(len(ldata) * fraction)\n",
    "    return ldata[:breakPoint], ldata[breakPoint:]\n"
   ]
  },
  {
   "cell_type": "code",
   "execution_count": 19,
   "id": "1bdaac9a-2089-42f9-bb7d-baab414f7261",
   "metadata": {},
   "outputs": [
    {
     "name": "stdout",
     "output_type": "stream",
     "text": [
      "round 1\n",
      "[0.42857142857142855, 0.8163265306122449, 0.7755102040816326, 0.9183673469387755, 0.8979591836734694, 0.8979591836734694, 0.8775510204081632, 0.8775510204081632, 0.8775510204081632, 0.8775510204081632, 0.8979591836734694, 0.8979591836734694, 0.8979591836734694]\n",
      "round 2\n",
      "[0.40816326530612246, 0.7959183673469388, 0.8367346938775511, 0.9183673469387755, 0.7959183673469388, 0.8571428571428571, 0.8367346938775511, 0.8571428571428571, 0.8775510204081632, 0.8775510204081632, 0.8775510204081632, 0.8775510204081632, 0.8775510204081632]\n",
      "round 3\n",
      "[0.4897959183673469, 0.7755102040816326, 0.9183673469387755, 0.8979591836734694, 0.9183673469387755, 0.8979591836734694, 0.8775510204081632, 0.8775510204081632, 0.8775510204081632]\n"
     ]
    }
   ],
   "source": [
    "\n",
    "mean = []\n",
    "\n",
    "for j in range(3):\n",
    "    print('round', j+1)\n",
    "    rate_correct = []\n",
    "    monk1train, monk1val = partition(m.monk3, 0.6)\n",
    "    t = d.buildTree(monk1train, m.attributes)\n",
    "\n",
    "    # prunning, this return many different possibilities\n",
    "    m_prun = allPruned(t)\n",
    "\n",
    "    for i in range( len(m_prun) ):\n",
    "      rate_correct.append(d.check(m_prun[i], monk1val))\n",
    "       #rate_correct.append(d.check(m_prun[i], m.monk3test))\n",
    "    print(rate_correct)\n",
    "    \n",
    "    mean.append( np.mean(rate_correct) ) # average of the all possibilities\n",
    "\n",
    "   \n",
    "    j +=1\n",
    "mean_mean = np.mean(mean)    "
   ]
  },
  {
   "cell_type": "code",
   "execution_count": 18,
   "id": "5b79abce-681d-41be-ad01-6bd3dfa8f4f3",
   "metadata": {},
   "outputs": [
    {
     "name": "stdout",
     "output_type": "stream",
     "text": [
      "0.8571428571428572\n"
     ]
    }
   ],
   "source": [
    "print(mean_mean)"
   ]
  },
  {
   "cell_type": "code",
   "execution_count": null,
   "id": "6ab3f936-0b1a-4d5f-9750-f056ecdf8b0f",
   "metadata": {},
   "outputs": [],
   "source": [
    "type(m_prun[0])"
   ]
  },
  {
   "cell_type": "code",
   "execution_count": 9,
   "id": "4a4307fe-7fec-4e68-a19a-c44eac7c5a6d",
   "metadata": {},
   "outputs": [
    {
     "ename": "SystemExit",
     "evalue": "0",
     "output_type": "error",
     "traceback": [
      "An exception has occurred, use %tb to see the full traceback.\n",
      "\u001b[0;31mSystemExit\u001b[0m\u001b[0;31m:\u001b[0m 0\n"
     ]
    }
   ],
   "source": [
    "from drawtree_qt5 import *\n",
    "#drawTree(t)\n",
    "drawTree(m_prun[3])"
   ]
  },
  {
   "cell_type": "code",
   "execution_count": null,
   "id": "55ca5974-7029-4d00-a7ab-1d14bd40e702",
   "metadata": {},
   "outputs": [],
   "source": [
    "draw"
   ]
  }
 ],
 "metadata": {
  "kernelspec": {
   "display_name": "Python 3 (ipykernel)",
   "language": "python",
   "name": "python3"
  },
  "language_info": {
   "codemirror_mode": {
    "name": "ipython",
    "version": 3
   },
   "file_extension": ".py",
   "mimetype": "text/x-python",
   "name": "python",
   "nbconvert_exporter": "python",
   "pygments_lexer": "ipython3",
   "version": "3.13.1"
  }
 },
 "nbformat": 4,
 "nbformat_minor": 5
}
